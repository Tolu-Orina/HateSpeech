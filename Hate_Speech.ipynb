{
  "nbformat": 4,
  "nbformat_minor": 0,
  "metadata": {
    "colab": {
      "name": "Hate-Speech.ipynb",
      "provenance": [],
      "collapsed_sections": [
        "8S7DqqASyxhr",
        "5fuZWcaf_z7g",
        "04ZeNi6YBDbf",
        "q-yQ41jrB6PO",
        "vLchTIxaB_So",
        "QNmcyCQSCSlP",
        "vPC5Bjb2CmW6"
      ],
      "mount_file_id": "1AitUmoCBCDLX0ZpRxPM7P8-U0j_wrRn5",
      "authorship_tag": "ABX9TyNyNI1fVLqTLCK557wZ7In8",
      "include_colab_link": true
    },
    "kernelspec": {
      "name": "python3",
      "display_name": "Python 3"
    },
    "language_info": {
      "name": "python"
    }
  },
  "cells": [
    {
      "cell_type": "markdown",
      "metadata": {
        "id": "view-in-github",
        "colab_type": "text"
      },
      "source": [
        "<a href=\"https://colab.research.google.com/github/Tolu-Orina/HateSpeech/blob/main/Hate_Speech.ipynb\" target=\"_parent\"><img src=\"https://colab.research.google.com/assets/colab-badge.svg\" alt=\"Open In Colab\"/></a>"
      ]
    },
    {
      "cell_type": "markdown",
      "source": [
        "## Hate Speech Detection\n",
        "\n",
        "\n",
        "### Introduction\n",
        "Hate Speech is an abusive or threatening speech or writing that expresses prejudice against a particular group, especially on the basis of race, religion, or sexual orientation.\n",
        "\n",
        "The purpose of this application and research analysis is to be able to detect hate speech including offensive language from twitter tweets. **#SayNoToHateSpeech**\n",
        "\n",
        "### About Dataset\n",
        "Dataset using Twitter data, is was used to research hate-speech detection. The text is classified as: hate-speech, offensive language, and neither. Due to the nature of the study, it’s important to note that this dataset contains text that can be considered racist, sexist, homophobic, or generally offensive.\n",
        "The Dataset contains 24783 observations.\n",
        "\n",
        "Labels in the dataset include:\n",
        "\n",
        "* 0 - hate-speech\n",
        "* 1 - offensive language\n",
        "* 2 - neither"
      ],
      "metadata": {
        "id": "8S7DqqASyxhr"
      }
    },
    {
      "cell_type": "code",
      "source": [
        "from google.colab import drive\n",
        "drive.mount('/content/drive')"
      ],
      "metadata": {
        "colab": {
          "base_uri": "https://localhost:8080/"
        },
        "id": "ZK4roWvgyd2r",
        "outputId": "5e97a825-fa29-46e0-8b4a-b14971b78970"
      },
      "execution_count": 1,
      "outputs": [
        {
          "output_type": "stream",
          "name": "stdout",
          "text": [
            "Drive already mounted at /content/drive; to attempt to forcibly remount, call drive.mount(\"/content/drive\", force_remount=True).\n"
          ]
        }
      ]
    },
    {
      "cell_type": "markdown",
      "source": [
        "### Installations"
      ],
      "metadata": {
        "id": "5fuZWcaf_z7g"
      }
    },
    {
      "cell_type": "code",
      "source": [
        "!pip install contractions\n",
        "!pip install tensorflow-addons"
      ],
      "metadata": {
        "colab": {
          "base_uri": "https://localhost:8080/"
        },
        "id": "kXEe-iigRO-5",
        "outputId": "8e1943d5-e975-45b4-b828-a36e9ce337ae"
      },
      "execution_count": 2,
      "outputs": [
        {
          "output_type": "stream",
          "name": "stdout",
          "text": [
            "Collecting contractions\n",
            "  Downloading contractions-0.1.72-py2.py3-none-any.whl (8.3 kB)\n",
            "Collecting textsearch>=0.0.21\n",
            "  Downloading textsearch-0.0.21-py2.py3-none-any.whl (7.5 kB)\n",
            "Collecting anyascii\n",
            "  Downloading anyascii-0.3.1-py3-none-any.whl (287 kB)\n",
            "\u001b[K     |████████████████████████████████| 287 kB 4.8 MB/s \n",
            "\u001b[?25hCollecting pyahocorasick\n",
            "  Downloading pyahocorasick-1.4.4-cp37-cp37m-manylinux_2_17_x86_64.manylinux2014_x86_64.whl (106 kB)\n",
            "\u001b[K     |████████████████████████████████| 106 kB 49.1 MB/s \n",
            "\u001b[?25hInstalling collected packages: pyahocorasick, anyascii, textsearch, contractions\n",
            "Successfully installed anyascii-0.3.1 contractions-0.1.72 pyahocorasick-1.4.4 textsearch-0.0.21\n",
            "Collecting tensorflow-addons\n",
            "  Downloading tensorflow_addons-0.16.1-cp37-cp37m-manylinux_2_12_x86_64.manylinux2010_x86_64.whl (1.1 MB)\n",
            "\u001b[K     |████████████████████████████████| 1.1 MB 4.9 MB/s \n",
            "\u001b[?25hRequirement already satisfied: typeguard>=2.7 in /usr/local/lib/python3.7/dist-packages (from tensorflow-addons) (2.7.1)\n",
            "Installing collected packages: tensorflow-addons\n",
            "Successfully installed tensorflow-addons-0.16.1\n"
          ]
        }
      ]
    },
    {
      "cell_type": "markdown",
      "source": [
        "### Import Necessary Libraries"
      ],
      "metadata": {
        "id": "04ZeNi6YBDbf"
      }
    },
    {
      "cell_type": "code",
      "source": [
        "# Import necessary libraries\n",
        "import pandas as pd\n",
        "import numpy as np\n",
        "import matplotlib.pyplot as plt\n",
        "from IPython.display import display\n",
        "\n",
        "import re\n",
        "import nltk\n",
        "nltk.download(\"stopwords\")\n",
        "from nltk.corpus import stopwords\n",
        "from nltk.tokenize import TweetTokenizer\n",
        "import string\n",
        "\n",
        "from sklearn.model_selection import train_test_split\n",
        "\n",
        "import tensorflow as tf\n",
        "import tensorflow_addons as tfa\n",
        "from keras.layers import Conv1D, Bidirectional, LSTM, Dense, Input, Dropout\n",
        "from keras.layers import SpatialDropout1D\n",
        "from keras.callbacks import ModelCheckpoint\n",
        "from keras.preprocessing.text import Tokenizer\n",
        "from keras.preprocessing.sequence import pad_sequences\n",
        "from tensorflow.keras.optimizers import Adam\n",
        "from keras.callbacks import ReduceLROnPlateau\n",
        "\n",
        "import contractions\n",
        "from textblob import TextBlob\n",
        "\n",
        "plt.style.use(\"ggplot\")"
      ],
      "metadata": {
        "id": "Rxtk1NoVz49B",
        "colab": {
          "base_uri": "https://localhost:8080/"
        },
        "outputId": "e947fca1-3b10-4a52-cd47-e104ccd30488"
      },
      "execution_count": 3,
      "outputs": [
        {
          "output_type": "stream",
          "name": "stdout",
          "text": [
            "[nltk_data] Downloading package stopwords to /root/nltk_data...\n",
            "[nltk_data]   Unzipping corpora/stopwords.zip.\n"
          ]
        }
      ]
    },
    {
      "cell_type": "markdown",
      "source": [
        "### Exploratory Analysis"
      ],
      "metadata": {
        "id": "q-yQ41jrB6PO"
      }
    },
    {
      "cell_type": "code",
      "source": [
        "# Load Dataset\n",
        "\n",
        "data = pd.read_csv(\"/content/drive/MyDrive/hate_speech_labeled_data.csv\", index_col=0)\n",
        "data = data.reset_index(drop=True)\n",
        "data.tail()"
      ],
      "metadata": {
        "colab": {
          "base_uri": "https://localhost:8080/",
          "height": 206
        },
        "id": "hudZJYC-0N4p",
        "outputId": "d372b6f6-67ef-4879-fa0a-26077dc38601"
      },
      "execution_count": 4,
      "outputs": [
        {
          "output_type": "execute_result",
          "data": {
            "text/plain": [
              "       count  hate_speech  offensive_language  neither  class  \\\n",
              "24778      3            0                   2        1      1   \n",
              "24779      3            0                   1        2      2   \n",
              "24780      3            0                   3        0      1   \n",
              "24781      6            0                   6        0      1   \n",
              "24782      3            0                   0        3      2   \n",
              "\n",
              "                                                   tweet  \n",
              "24778  you's a muthaf***in lie &#8220;@LifeAsKing: @2...  \n",
              "24779  you've gone and broke the wrong heart baby, an...  \n",
              "24780  young buck wanna eat!!.. dat nigguh like I ain...  \n",
              "24781              youu got wild bitches tellin you lies  \n",
              "24782  ~~Ruffled | Ntac Eileen Dahlia - Beautiful col...  "
            ],
            "text/html": [
              "\n",
              "  <div id=\"df-1ee4f574-11e2-418c-8b8b-4bbcf81d3d9b\">\n",
              "    <div class=\"colab-df-container\">\n",
              "      <div>\n",
              "<style scoped>\n",
              "    .dataframe tbody tr th:only-of-type {\n",
              "        vertical-align: middle;\n",
              "    }\n",
              "\n",
              "    .dataframe tbody tr th {\n",
              "        vertical-align: top;\n",
              "    }\n",
              "\n",
              "    .dataframe thead th {\n",
              "        text-align: right;\n",
              "    }\n",
              "</style>\n",
              "<table border=\"1\" class=\"dataframe\">\n",
              "  <thead>\n",
              "    <tr style=\"text-align: right;\">\n",
              "      <th></th>\n",
              "      <th>count</th>\n",
              "      <th>hate_speech</th>\n",
              "      <th>offensive_language</th>\n",
              "      <th>neither</th>\n",
              "      <th>class</th>\n",
              "      <th>tweet</th>\n",
              "    </tr>\n",
              "  </thead>\n",
              "  <tbody>\n",
              "    <tr>\n",
              "      <th>24778</th>\n",
              "      <td>3</td>\n",
              "      <td>0</td>\n",
              "      <td>2</td>\n",
              "      <td>1</td>\n",
              "      <td>1</td>\n",
              "      <td>you's a muthaf***in lie &amp;#8220;@LifeAsKing: @2...</td>\n",
              "    </tr>\n",
              "    <tr>\n",
              "      <th>24779</th>\n",
              "      <td>3</td>\n",
              "      <td>0</td>\n",
              "      <td>1</td>\n",
              "      <td>2</td>\n",
              "      <td>2</td>\n",
              "      <td>you've gone and broke the wrong heart baby, an...</td>\n",
              "    </tr>\n",
              "    <tr>\n",
              "      <th>24780</th>\n",
              "      <td>3</td>\n",
              "      <td>0</td>\n",
              "      <td>3</td>\n",
              "      <td>0</td>\n",
              "      <td>1</td>\n",
              "      <td>young buck wanna eat!!.. dat nigguh like I ain...</td>\n",
              "    </tr>\n",
              "    <tr>\n",
              "      <th>24781</th>\n",
              "      <td>6</td>\n",
              "      <td>0</td>\n",
              "      <td>6</td>\n",
              "      <td>0</td>\n",
              "      <td>1</td>\n",
              "      <td>youu got wild bitches tellin you lies</td>\n",
              "    </tr>\n",
              "    <tr>\n",
              "      <th>24782</th>\n",
              "      <td>3</td>\n",
              "      <td>0</td>\n",
              "      <td>0</td>\n",
              "      <td>3</td>\n",
              "      <td>2</td>\n",
              "      <td>~~Ruffled | Ntac Eileen Dahlia - Beautiful col...</td>\n",
              "    </tr>\n",
              "  </tbody>\n",
              "</table>\n",
              "</div>\n",
              "      <button class=\"colab-df-convert\" onclick=\"convertToInteractive('df-1ee4f574-11e2-418c-8b8b-4bbcf81d3d9b')\"\n",
              "              title=\"Convert this dataframe to an interactive table.\"\n",
              "              style=\"display:none;\">\n",
              "        \n",
              "  <svg xmlns=\"http://www.w3.org/2000/svg\" height=\"24px\"viewBox=\"0 0 24 24\"\n",
              "       width=\"24px\">\n",
              "    <path d=\"M0 0h24v24H0V0z\" fill=\"none\"/>\n",
              "    <path d=\"M18.56 5.44l.94 2.06.94-2.06 2.06-.94-2.06-.94-.94-2.06-.94 2.06-2.06.94zm-11 1L8.5 8.5l.94-2.06 2.06-.94-2.06-.94L8.5 2.5l-.94 2.06-2.06.94zm10 10l.94 2.06.94-2.06 2.06-.94-2.06-.94-.94-2.06-.94 2.06-2.06.94z\"/><path d=\"M17.41 7.96l-1.37-1.37c-.4-.4-.92-.59-1.43-.59-.52 0-1.04.2-1.43.59L10.3 9.45l-7.72 7.72c-.78.78-.78 2.05 0 2.83L4 21.41c.39.39.9.59 1.41.59.51 0 1.02-.2 1.41-.59l7.78-7.78 2.81-2.81c.8-.78.8-2.07 0-2.86zM5.41 20L4 18.59l7.72-7.72 1.47 1.35L5.41 20z\"/>\n",
              "  </svg>\n",
              "      </button>\n",
              "      \n",
              "  <style>\n",
              "    .colab-df-container {\n",
              "      display:flex;\n",
              "      flex-wrap:wrap;\n",
              "      gap: 12px;\n",
              "    }\n",
              "\n",
              "    .colab-df-convert {\n",
              "      background-color: #E8F0FE;\n",
              "      border: none;\n",
              "      border-radius: 50%;\n",
              "      cursor: pointer;\n",
              "      display: none;\n",
              "      fill: #1967D2;\n",
              "      height: 32px;\n",
              "      padding: 0 0 0 0;\n",
              "      width: 32px;\n",
              "    }\n",
              "\n",
              "    .colab-df-convert:hover {\n",
              "      background-color: #E2EBFA;\n",
              "      box-shadow: 0px 1px 2px rgba(60, 64, 67, 0.3), 0px 1px 3px 1px rgba(60, 64, 67, 0.15);\n",
              "      fill: #174EA6;\n",
              "    }\n",
              "\n",
              "    [theme=dark] .colab-df-convert {\n",
              "      background-color: #3B4455;\n",
              "      fill: #D2E3FC;\n",
              "    }\n",
              "\n",
              "    [theme=dark] .colab-df-convert:hover {\n",
              "      background-color: #434B5C;\n",
              "      box-shadow: 0px 1px 3px 1px rgba(0, 0, 0, 0.15);\n",
              "      filter: drop-shadow(0px 1px 2px rgba(0, 0, 0, 0.3));\n",
              "      fill: #FFFFFF;\n",
              "    }\n",
              "  </style>\n",
              "\n",
              "      <script>\n",
              "        const buttonEl =\n",
              "          document.querySelector('#df-1ee4f574-11e2-418c-8b8b-4bbcf81d3d9b button.colab-df-convert');\n",
              "        buttonEl.style.display =\n",
              "          google.colab.kernel.accessAllowed ? 'block' : 'none';\n",
              "\n",
              "        async function convertToInteractive(key) {\n",
              "          const element = document.querySelector('#df-1ee4f574-11e2-418c-8b8b-4bbcf81d3d9b');\n",
              "          const dataTable =\n",
              "            await google.colab.kernel.invokeFunction('convertToInteractive',\n",
              "                                                     [key], {});\n",
              "          if (!dataTable) return;\n",
              "\n",
              "          const docLinkHtml = 'Like what you see? Visit the ' +\n",
              "            '<a target=\"_blank\" href=https://colab.research.google.com/notebooks/data_table.ipynb>data table notebook</a>'\n",
              "            + ' to learn more about interactive tables.';\n",
              "          element.innerHTML = '';\n",
              "          dataTable['output_type'] = 'display_data';\n",
              "          await google.colab.output.renderOutput(dataTable, element);\n",
              "          const docLink = document.createElement('div');\n",
              "          docLink.innerHTML = docLinkHtml;\n",
              "          element.appendChild(docLink);\n",
              "        }\n",
              "      </script>\n",
              "    </div>\n",
              "  </div>\n",
              "  "
            ]
          },
          "metadata": {},
          "execution_count": 4
        }
      ]
    },
    {
      "cell_type": "code",
      "source": [
        "# Map class to their corresponding label\n",
        "data[\"label\"] = data[\"class\"].map({0: \"hate_speech\", 1: \"offensive_language\", 2: \"neither\"})\n",
        "display(data.head())\n",
        "\n",
        "# Check the Proportion of classes Present\n",
        "display(data[\"class\"].value_counts().to_frame())\n",
        "\n",
        "print(\"There is a class imbalance in the dataset, with much more of the tweets having offensive language\")"
      ],
      "metadata": {
        "id": "eswwWYW0Bz37",
        "colab": {
          "base_uri": "https://localhost:8080/",
          "height": 394
        },
        "outputId": "34e09388-9a49-4e62-e4ce-ca2c042dad24"
      },
      "execution_count": 5,
      "outputs": [
        {
          "output_type": "display_data",
          "data": {
            "text/plain": [
              "   count  hate_speech  offensive_language  neither  class  \\\n",
              "0      3            0                   0        3      2   \n",
              "1      3            0                   3        0      1   \n",
              "2      3            0                   3        0      1   \n",
              "3      3            0                   2        1      1   \n",
              "4      6            0                   6        0      1   \n",
              "\n",
              "                                               tweet               label  \n",
              "0  !!! RT @mayasolovely: As a woman you shouldn't...             neither  \n",
              "1  !!!!! RT @mleew17: boy dats cold...tyga dwn ba...  offensive_language  \n",
              "2  !!!!!!! RT @UrKindOfBrand Dawg!!!! RT @80sbaby...  offensive_language  \n",
              "3  !!!!!!!!! RT @C_G_Anderson: @viva_based she lo...  offensive_language  \n",
              "4  !!!!!!!!!!!!! RT @ShenikaRoberts: The shit you...  offensive_language  "
            ],
            "text/html": [
              "\n",
              "  <div id=\"df-597b8d6c-4175-4ea1-abda-2650d87948fa\">\n",
              "    <div class=\"colab-df-container\">\n",
              "      <div>\n",
              "<style scoped>\n",
              "    .dataframe tbody tr th:only-of-type {\n",
              "        vertical-align: middle;\n",
              "    }\n",
              "\n",
              "    .dataframe tbody tr th {\n",
              "        vertical-align: top;\n",
              "    }\n",
              "\n",
              "    .dataframe thead th {\n",
              "        text-align: right;\n",
              "    }\n",
              "</style>\n",
              "<table border=\"1\" class=\"dataframe\">\n",
              "  <thead>\n",
              "    <tr style=\"text-align: right;\">\n",
              "      <th></th>\n",
              "      <th>count</th>\n",
              "      <th>hate_speech</th>\n",
              "      <th>offensive_language</th>\n",
              "      <th>neither</th>\n",
              "      <th>class</th>\n",
              "      <th>tweet</th>\n",
              "      <th>label</th>\n",
              "    </tr>\n",
              "  </thead>\n",
              "  <tbody>\n",
              "    <tr>\n",
              "      <th>0</th>\n",
              "      <td>3</td>\n",
              "      <td>0</td>\n",
              "      <td>0</td>\n",
              "      <td>3</td>\n",
              "      <td>2</td>\n",
              "      <td>!!! RT @mayasolovely: As a woman you shouldn't...</td>\n",
              "      <td>neither</td>\n",
              "    </tr>\n",
              "    <tr>\n",
              "      <th>1</th>\n",
              "      <td>3</td>\n",
              "      <td>0</td>\n",
              "      <td>3</td>\n",
              "      <td>0</td>\n",
              "      <td>1</td>\n",
              "      <td>!!!!! RT @mleew17: boy dats cold...tyga dwn ba...</td>\n",
              "      <td>offensive_language</td>\n",
              "    </tr>\n",
              "    <tr>\n",
              "      <th>2</th>\n",
              "      <td>3</td>\n",
              "      <td>0</td>\n",
              "      <td>3</td>\n",
              "      <td>0</td>\n",
              "      <td>1</td>\n",
              "      <td>!!!!!!! RT @UrKindOfBrand Dawg!!!! RT @80sbaby...</td>\n",
              "      <td>offensive_language</td>\n",
              "    </tr>\n",
              "    <tr>\n",
              "      <th>3</th>\n",
              "      <td>3</td>\n",
              "      <td>0</td>\n",
              "      <td>2</td>\n",
              "      <td>1</td>\n",
              "      <td>1</td>\n",
              "      <td>!!!!!!!!! RT @C_G_Anderson: @viva_based she lo...</td>\n",
              "      <td>offensive_language</td>\n",
              "    </tr>\n",
              "    <tr>\n",
              "      <th>4</th>\n",
              "      <td>6</td>\n",
              "      <td>0</td>\n",
              "      <td>6</td>\n",
              "      <td>0</td>\n",
              "      <td>1</td>\n",
              "      <td>!!!!!!!!!!!!! RT @ShenikaRoberts: The shit you...</td>\n",
              "      <td>offensive_language</td>\n",
              "    </tr>\n",
              "  </tbody>\n",
              "</table>\n",
              "</div>\n",
              "      <button class=\"colab-df-convert\" onclick=\"convertToInteractive('df-597b8d6c-4175-4ea1-abda-2650d87948fa')\"\n",
              "              title=\"Convert this dataframe to an interactive table.\"\n",
              "              style=\"display:none;\">\n",
              "        \n",
              "  <svg xmlns=\"http://www.w3.org/2000/svg\" height=\"24px\"viewBox=\"0 0 24 24\"\n",
              "       width=\"24px\">\n",
              "    <path d=\"M0 0h24v24H0V0z\" fill=\"none\"/>\n",
              "    <path d=\"M18.56 5.44l.94 2.06.94-2.06 2.06-.94-2.06-.94-.94-2.06-.94 2.06-2.06.94zm-11 1L8.5 8.5l.94-2.06 2.06-.94-2.06-.94L8.5 2.5l-.94 2.06-2.06.94zm10 10l.94 2.06.94-2.06 2.06-.94-2.06-.94-.94-2.06-.94 2.06-2.06.94z\"/><path d=\"M17.41 7.96l-1.37-1.37c-.4-.4-.92-.59-1.43-.59-.52 0-1.04.2-1.43.59L10.3 9.45l-7.72 7.72c-.78.78-.78 2.05 0 2.83L4 21.41c.39.39.9.59 1.41.59.51 0 1.02-.2 1.41-.59l7.78-7.78 2.81-2.81c.8-.78.8-2.07 0-2.86zM5.41 20L4 18.59l7.72-7.72 1.47 1.35L5.41 20z\"/>\n",
              "  </svg>\n",
              "      </button>\n",
              "      \n",
              "  <style>\n",
              "    .colab-df-container {\n",
              "      display:flex;\n",
              "      flex-wrap:wrap;\n",
              "      gap: 12px;\n",
              "    }\n",
              "\n",
              "    .colab-df-convert {\n",
              "      background-color: #E8F0FE;\n",
              "      border: none;\n",
              "      border-radius: 50%;\n",
              "      cursor: pointer;\n",
              "      display: none;\n",
              "      fill: #1967D2;\n",
              "      height: 32px;\n",
              "      padding: 0 0 0 0;\n",
              "      width: 32px;\n",
              "    }\n",
              "\n",
              "    .colab-df-convert:hover {\n",
              "      background-color: #E2EBFA;\n",
              "      box-shadow: 0px 1px 2px rgba(60, 64, 67, 0.3), 0px 1px 3px 1px rgba(60, 64, 67, 0.15);\n",
              "      fill: #174EA6;\n",
              "    }\n",
              "\n",
              "    [theme=dark] .colab-df-convert {\n",
              "      background-color: #3B4455;\n",
              "      fill: #D2E3FC;\n",
              "    }\n",
              "\n",
              "    [theme=dark] .colab-df-convert:hover {\n",
              "      background-color: #434B5C;\n",
              "      box-shadow: 0px 1px 3px 1px rgba(0, 0, 0, 0.15);\n",
              "      filter: drop-shadow(0px 1px 2px rgba(0, 0, 0, 0.3));\n",
              "      fill: #FFFFFF;\n",
              "    }\n",
              "  </style>\n",
              "\n",
              "      <script>\n",
              "        const buttonEl =\n",
              "          document.querySelector('#df-597b8d6c-4175-4ea1-abda-2650d87948fa button.colab-df-convert');\n",
              "        buttonEl.style.display =\n",
              "          google.colab.kernel.accessAllowed ? 'block' : 'none';\n",
              "\n",
              "        async function convertToInteractive(key) {\n",
              "          const element = document.querySelector('#df-597b8d6c-4175-4ea1-abda-2650d87948fa');\n",
              "          const dataTable =\n",
              "            await google.colab.kernel.invokeFunction('convertToInteractive',\n",
              "                                                     [key], {});\n",
              "          if (!dataTable) return;\n",
              "\n",
              "          const docLinkHtml = 'Like what you see? Visit the ' +\n",
              "            '<a target=\"_blank\" href=https://colab.research.google.com/notebooks/data_table.ipynb>data table notebook</a>'\n",
              "            + ' to learn more about interactive tables.';\n",
              "          element.innerHTML = '';\n",
              "          dataTable['output_type'] = 'display_data';\n",
              "          await google.colab.output.renderOutput(dataTable, element);\n",
              "          const docLink = document.createElement('div');\n",
              "          docLink.innerHTML = docLinkHtml;\n",
              "          element.appendChild(docLink);\n",
              "        }\n",
              "      </script>\n",
              "    </div>\n",
              "  </div>\n",
              "  "
            ]
          },
          "metadata": {}
        },
        {
          "output_type": "display_data",
          "data": {
            "text/plain": [
              "   class\n",
              "1  19190\n",
              "2   4163\n",
              "0   1430"
            ],
            "text/html": [
              "\n",
              "  <div id=\"df-f49b9235-282a-49f0-8627-1bbf0ab852cf\">\n",
              "    <div class=\"colab-df-container\">\n",
              "      <div>\n",
              "<style scoped>\n",
              "    .dataframe tbody tr th:only-of-type {\n",
              "        vertical-align: middle;\n",
              "    }\n",
              "\n",
              "    .dataframe tbody tr th {\n",
              "        vertical-align: top;\n",
              "    }\n",
              "\n",
              "    .dataframe thead th {\n",
              "        text-align: right;\n",
              "    }\n",
              "</style>\n",
              "<table border=\"1\" class=\"dataframe\">\n",
              "  <thead>\n",
              "    <tr style=\"text-align: right;\">\n",
              "      <th></th>\n",
              "      <th>class</th>\n",
              "    </tr>\n",
              "  </thead>\n",
              "  <tbody>\n",
              "    <tr>\n",
              "      <th>1</th>\n",
              "      <td>19190</td>\n",
              "    </tr>\n",
              "    <tr>\n",
              "      <th>2</th>\n",
              "      <td>4163</td>\n",
              "    </tr>\n",
              "    <tr>\n",
              "      <th>0</th>\n",
              "      <td>1430</td>\n",
              "    </tr>\n",
              "  </tbody>\n",
              "</table>\n",
              "</div>\n",
              "      <button class=\"colab-df-convert\" onclick=\"convertToInteractive('df-f49b9235-282a-49f0-8627-1bbf0ab852cf')\"\n",
              "              title=\"Convert this dataframe to an interactive table.\"\n",
              "              style=\"display:none;\">\n",
              "        \n",
              "  <svg xmlns=\"http://www.w3.org/2000/svg\" height=\"24px\"viewBox=\"0 0 24 24\"\n",
              "       width=\"24px\">\n",
              "    <path d=\"M0 0h24v24H0V0z\" fill=\"none\"/>\n",
              "    <path d=\"M18.56 5.44l.94 2.06.94-2.06 2.06-.94-2.06-.94-.94-2.06-.94 2.06-2.06.94zm-11 1L8.5 8.5l.94-2.06 2.06-.94-2.06-.94L8.5 2.5l-.94 2.06-2.06.94zm10 10l.94 2.06.94-2.06 2.06-.94-2.06-.94-.94-2.06-.94 2.06-2.06.94z\"/><path d=\"M17.41 7.96l-1.37-1.37c-.4-.4-.92-.59-1.43-.59-.52 0-1.04.2-1.43.59L10.3 9.45l-7.72 7.72c-.78.78-.78 2.05 0 2.83L4 21.41c.39.39.9.59 1.41.59.51 0 1.02-.2 1.41-.59l7.78-7.78 2.81-2.81c.8-.78.8-2.07 0-2.86zM5.41 20L4 18.59l7.72-7.72 1.47 1.35L5.41 20z\"/>\n",
              "  </svg>\n",
              "      </button>\n",
              "      \n",
              "  <style>\n",
              "    .colab-df-container {\n",
              "      display:flex;\n",
              "      flex-wrap:wrap;\n",
              "      gap: 12px;\n",
              "    }\n",
              "\n",
              "    .colab-df-convert {\n",
              "      background-color: #E8F0FE;\n",
              "      border: none;\n",
              "      border-radius: 50%;\n",
              "      cursor: pointer;\n",
              "      display: none;\n",
              "      fill: #1967D2;\n",
              "      height: 32px;\n",
              "      padding: 0 0 0 0;\n",
              "      width: 32px;\n",
              "    }\n",
              "\n",
              "    .colab-df-convert:hover {\n",
              "      background-color: #E2EBFA;\n",
              "      box-shadow: 0px 1px 2px rgba(60, 64, 67, 0.3), 0px 1px 3px 1px rgba(60, 64, 67, 0.15);\n",
              "      fill: #174EA6;\n",
              "    }\n",
              "\n",
              "    [theme=dark] .colab-df-convert {\n",
              "      background-color: #3B4455;\n",
              "      fill: #D2E3FC;\n",
              "    }\n",
              "\n",
              "    [theme=dark] .colab-df-convert:hover {\n",
              "      background-color: #434B5C;\n",
              "      box-shadow: 0px 1px 3px 1px rgba(0, 0, 0, 0.15);\n",
              "      filter: drop-shadow(0px 1px 2px rgba(0, 0, 0, 0.3));\n",
              "      fill: #FFFFFF;\n",
              "    }\n",
              "  </style>\n",
              "\n",
              "      <script>\n",
              "        const buttonEl =\n",
              "          document.querySelector('#df-f49b9235-282a-49f0-8627-1bbf0ab852cf button.colab-df-convert');\n",
              "        buttonEl.style.display =\n",
              "          google.colab.kernel.accessAllowed ? 'block' : 'none';\n",
              "\n",
              "        async function convertToInteractive(key) {\n",
              "          const element = document.querySelector('#df-f49b9235-282a-49f0-8627-1bbf0ab852cf');\n",
              "          const dataTable =\n",
              "            await google.colab.kernel.invokeFunction('convertToInteractive',\n",
              "                                                     [key], {});\n",
              "          if (!dataTable) return;\n",
              "\n",
              "          const docLinkHtml = 'Like what you see? Visit the ' +\n",
              "            '<a target=\"_blank\" href=https://colab.research.google.com/notebooks/data_table.ipynb>data table notebook</a>'\n",
              "            + ' to learn more about interactive tables.';\n",
              "          element.innerHTML = '';\n",
              "          dataTable['output_type'] = 'display_data';\n",
              "          await google.colab.output.renderOutput(dataTable, element);\n",
              "          const docLink = document.createElement('div');\n",
              "          docLink.innerHTML = docLinkHtml;\n",
              "          element.appendChild(docLink);\n",
              "        }\n",
              "      </script>\n",
              "    </div>\n",
              "  </div>\n",
              "  "
            ]
          },
          "metadata": {}
        },
        {
          "output_type": "stream",
          "name": "stdout",
          "text": [
            "There is a class imbalance in the dataset, with much more of the tweets having offensive language\n"
          ]
        }
      ]
    },
    {
      "cell_type": "code",
      "source": [
        "# Bar Plot of Labels showing imbalance\n",
        "data[\"label\"].value_counts().plot.bar(title=\"Count of the different labels\")\n",
        "plt.xticks(rotation=0)\n",
        "plt.show()"
      ],
      "metadata": {
        "colab": {
          "base_uri": "https://localhost:8080/",
          "height": 283
        },
        "id": "GAf0-0MH0hj_",
        "outputId": "73a6d826-2f8a-4bd5-e04b-0bf959f6711d"
      },
      "execution_count": 6,
      "outputs": [
        {
          "output_type": "display_data",
          "data": {
            "text/plain": [
              "<Figure size 432x288 with 1 Axes>"
            ],
            "image/png": "[encoded data removed]"
          },
          "metadata": {}
        }
      ]
    },
    {
      "cell_type": "markdown",
      "source": [
        "### Data Preparation and Text Preprocessing"
      ],
      "metadata": {
        "id": "vLchTIxaB_So"
      }
    },
    {
      "cell_type": "code",
      "source": [
        "#  Grab the tweet and label\n",
        "data2 = data[[\"class\", \"tweet\", \"label\"]]"
      ],
      "metadata": {
        "id": "4qosps9j1o-J"
      },
      "execution_count": 7,
      "outputs": []
    },
    {
      "cell_type": "code",
      "source": [
        "# Clean and process tweets\n",
        "\n",
        "punct = list(string.punctuation)\n",
        "punct += ['rt', 'via', '...']\n",
        "stopword_list = stopwords.words(\"english\") + punct\n",
        "\n",
        "def clean_tweet(text, stop=False):\n",
        "  \"\"\"helper function for cleaning and processing tweets\"\"\"\n",
        "\n",
        "  text = re.sub(r'&(.*?);', \"\", text)\n",
        "  tokens = TweetTokenizer().tokenize(text=text.lower())\n",
        "  tokens = [tok for tok in tokens if tok not in punct and not tok.isdigit()\n",
        "                    and not tok.startswith(\"@\") and not tok.startswith(\"#\") and not tok.startswith(\"http\")]\n",
        "\n",
        "  if \"you's\" in tokens:\n",
        "    tokens = list(map(lambda x: x.replace(\"you's\", 'you are'), tokens))\n",
        "\n",
        "  text = contractions.fix(' '.join(tokens))\n",
        "\n",
        "  # Remove stopwords if true\n",
        "  if stop:\n",
        "    tokens = [tok for tok in text.split() if tok not in stopword_list]\n",
        "    text = ' '.join(tokens)\n",
        "\n",
        "    return text\n",
        "\n",
        "  return text\n",
        "\n",
        "\n",
        "clean_tweet(data2[\"tweet\"][0])"
      ],
      "metadata": {
        "colab": {
          "base_uri": "https://localhost:8080/",
          "height": 35
        },
        "id": "AVK753-G2x8K",
        "outputId": "5155212e-eed2-4da8-e3d6-4ca7cf1afed4"
      },
      "execution_count": 8,
      "outputs": [
        {
          "output_type": "execute_result",
          "data": {
            "text/plain": [
              "'as a woman you should not complain about cleaning up your house as a man you should always take the trash out'"
            ],
            "application/vnd.google.colaboratory.intrinsic+json": {
              "type": "string"
            }
          },
          "metadata": {},
          "execution_count": 8
        }
      ]
    },
    {
      "cell_type": "code",
      "source": [
        "print(data.iloc[24778, :]['tweet'])\n",
        "\n",
        "clean_tweet(data.iloc[24778, :]['tweet'])"
      ],
      "metadata": {
        "id": "wXbA9BnHR3FT",
        "colab": {
          "base_uri": "https://localhost:8080/",
          "height": 73
        },
        "outputId": "c38ee972-367c-457c-8433-4b08d3c79d84"
      },
      "execution_count": 9,
      "outputs": [
        {
          "output_type": "stream",
          "name": "stdout",
          "text": [
            "you's a muthaf***in lie &#8220;@LifeAsKing: @20_Pearls @corey_emanuel right! His TL is trash &#8230;. Now, mine? Bible scriptures and hymns&#8221;\n"
          ]
        },
        {
          "output_type": "execute_result",
          "data": {
            "text/plain": [
              "'you are a muthaf in lie right his tl is trash now mine bible scriptures and hymns'"
            ],
            "application/vnd.google.colaboratory.intrinsic+json": {
              "type": "string"
            }
          },
          "metadata": {},
          "execution_count": 9
        }
      ]
    },
    {
      "cell_type": "code",
      "source": [
        "# Load in the train, test and test_sample from earlier\n",
        "train = pd.read_csv(\"/content/drive/MyDrive/hate_speech_train.csv\")\n",
        "test = pd.read_csv(\"/content/drive/MyDrive/hate_speech_test.csv\")\n",
        "test_sample = pd.read_csv(\"/content/drive/MyDrive/hate_speech_test_sample.csv\")"
      ],
      "metadata": {
        "id": "wvxZdK4KUlWs"
      },
      "execution_count": 10,
      "outputs": []
    },
    {
      "cell_type": "code",
      "source": [
        "# Apply the clean tweet function to the tweets\n",
        "\n",
        "train['tweet2'] = train['tweet'].apply(lambda x: clean_tweet(x))\n",
        "test['tweet2'] = test['tweet'].apply(lambda x: clean_tweet(x))"
      ],
      "metadata": {
        "id": "yDZA73nkWlAo"
      },
      "execution_count": 11,
      "outputs": []
    },
    {
      "cell_type": "code",
      "source": [
        "# Define the features (tweets) and the labels\n",
        "\n",
        "X_train = train['tweet2']\n",
        "X_test = test['tweet2']\n",
        "\n",
        "y_train = pd.get_dummies(train[\"class\"]).values\n",
        "y_test = pd.get_dummies(test[\"class\"]).values\n",
        "print(y_train.shape)\n",
        "\n",
        "# Fit texts to tokenizer\n",
        "max_vocab = 50000\n",
        "tokenizer = Tokenizer(num_words = max_vocab)\n",
        "tokenizer.fit_on_texts(X_train)\n",
        "\n"
      ],
      "metadata": {
        "colab": {
          "base_uri": "https://localhost:8080/"
        },
        "id": "fR3_ulzKXZkb",
        "outputId": "9d024573-7175-4a2e-e6be-1196e3a790dc"
      },
      "execution_count": 12,
      "outputs": [
        {
          "output_type": "stream",
          "name": "stdout",
          "text": [
            "(19802, 3)\n"
          ]
        }
      ]
    },
    {
      "cell_type": "code",
      "source": [
        "# Get the vocabulary size\n",
        "word_index = tokenizer.word_index\n",
        "vocab_size = len(word_index) + 1\n",
        "print(vocab_size)"
      ],
      "metadata": {
        "colab": {
          "base_uri": "https://localhost:8080/"
        },
        "id": "6pjwiwCnZByl",
        "outputId": "bfeb09a4-f780-45d9-f9ff-229a9cbd59ac"
      },
      "execution_count": 13,
      "outputs": [
        {
          "output_type": "stream",
          "name": "stdout",
          "text": [
            "17154\n"
          ]
        }
      ]
    },
    {
      "cell_type": "code",
      "source": [
        "X_train_padded = pad_sequences(tokenizer.texts_to_sequences(X_train), maxlen=30)\n",
        "X_test_padded = pad_sequences(tokenizer.texts_to_sequences(X_test), maxlen=30)"
      ],
      "metadata": {
        "id": "MSI5stcQZWHI"
      },
      "execution_count": 14,
      "outputs": []
    },
    {
      "cell_type": "code",
      "source": [
        "# !wget -P /content/drive/MyDrive  http://nlp.stanford.edu/data/glove.6B.zip\n"
      ],
      "metadata": {
        "id": "t-DfnPKLZWCs"
      },
      "execution_count": 15,
      "outputs": []
    },
    {
      "cell_type": "code",
      "source": [
        "# !unzip /content/drive/MyDrive/glove.6B.zip -d /content/drive/MyDrive/"
      ],
      "metadata": {
        "id": "33U5XvrHZV-x"
      },
      "execution_count": 16,
      "outputs": []
    },
    {
      "cell_type": "markdown",
      "source": [
        "### Modelling and Evaluation"
      ],
      "metadata": {
        "id": "QNmcyCQSCSlP"
      }
    },
    {
      "cell_type": "code",
      "source": [
        "embeddings_index = {}\n",
        "# opening the downloaded glove embeddings file\n",
        "f = open('/content/drive/MyDrive/glove.6B.300d.txt')\n",
        "for line in f:\n",
        "    # For each line file, the words are split and stored in a list\n",
        "    values = line.split()\n",
        "    word = value = values[0]\n",
        "    coefs = np.asarray(values[1:], dtype='float32')\n",
        "    embeddings_index[word] = coefs\n",
        "f.close()\n",
        "print('Found %s word vectors.' %len(embeddings_index))"
      ],
      "metadata": {
        "colab": {
          "base_uri": "https://localhost:8080/"
        },
        "id": "2wFZieHKg_TN",
        "outputId": "1cb776f5-3c1a-40ce-e0ba-0b4b240b35a3"
      },
      "execution_count": 17,
      "outputs": [
        {
          "output_type": "stream",
          "name": "stdout",
          "text": [
            "Found 400000 word vectors.\n"
          ]
        }
      ]
    },
    {
      "cell_type": "code",
      "source": [
        "embedding_matrix = np.zeros((vocab_size, 300))\n",
        "# Iterate through word, index in the dictionary\n",
        "for word, i in word_index.items():\n",
        "    # extract the corresponding vector for the vocab indice of same word\n",
        "    embedding_vector = embeddings_index.get(word)\n",
        "    if embedding_vector is not None:\n",
        "        # Storing it in a matrix\n",
        "        embedding_matrix[i] = embedding_vector"
      ],
      "metadata": {
        "id": "mBdMsGjGhi4I"
      },
      "execution_count": 18,
      "outputs": []
    },
    {
      "cell_type": "code",
      "source": [
        "# Import various layers needed for the architecture from keras\n",
        "\n",
        "def keras_model(embedding_matrix):\n",
        "  \"\"\"Keras model definition\"\"\"\n",
        "\n",
        "  # Define an embedding layer\n",
        "  embedding_layer = tf.keras.layers.Embedding(vocab_size,300,weights=[embedding_matrix],\n",
        "                                            input_length=30,trainable=False)\n",
        "\n",
        "  # The Input layer \n",
        "  sequence_input = Input(shape=(30,), dtype='int32')\n",
        "  # Inputs passed to the embedding layer\n",
        "  embedding_sequences = embedding_layer(sequence_input)\n",
        "  # dropout and conv layer \n",
        "  x = SpatialDropout1D(0.2)(embedding_sequences)\n",
        "  x = Conv1D(64, 5, activation='relu')(x)\n",
        "  # Passed on to the LSTM layer\n",
        "  x = Bidirectional(LSTM(64, dropout=0.2, recurrent_dropout=0.2))(x)\n",
        "  x = Dense(512, activation='relu')(x)\n",
        "  x = Dropout(0.5)(x)\n",
        "  x = Dense(512, activation='relu')(x)\n",
        "\n",
        "  # Passed on to activation layer to get final output\n",
        "  outputs = Dense(3, activation='softmax')(x)\n",
        "  model = tf.keras.Model(sequence_input, outputs)\n",
        "\n",
        "  # FBetaScore metric\n",
        "  f_beta = tfa.metrics.FBetaScore(num_classes=3,average=\"weighted\")\n",
        "\n",
        "  # Compile the model\n",
        "  model.compile(optimizer='adam', loss='categorical_crossentropy',metrics=[f_beta])\n",
        "  print(model.summary())\n",
        "\n",
        "  return model"
      ],
      "metadata": {
        "id": "rXmL51XbiAhg"
      },
      "execution_count": 22,
      "outputs": []
    },
    {
      "cell_type": "code",
      "source": [
        "# Instantiate the keras model\n",
        "model_1 =  keras_model(embedding_matrix)\n"
      ],
      "metadata": {
        "id": "h87WW0tY2JDd",
        "colab": {
          "base_uri": "https://localhost:8080/"
        },
        "outputId": "cb6b084f-88e1-43ad-e690-8a91283e198c"
      },
      "execution_count": 23,
      "outputs": [
        {
          "output_type": "stream",
          "name": "stdout",
          "text": [
            "Model: \"model_1\"\n",
            "_________________________________________________________________\n",
            " Layer (type)                Output Shape              Param #   \n",
            "=================================================================\n",
            " input_2 (InputLayer)        [(None, 30)]              0         \n",
            "                                                                 \n",
            " embedding_1 (Embedding)     (None, 30, 300)           5146200   \n",
            "                                                                 \n",
            " spatial_dropout1d_1 (Spatia  (None, 30, 300)          0         \n",
            " lDropout1D)                                                     \n",
            "                                                                 \n",
            " conv1d_1 (Conv1D)           (None, 26, 64)            96064     \n",
            "                                                                 \n",
            " bidirectional_1 (Bidirectio  (None, 128)              66048     \n",
            " nal)                                                            \n",
            "                                                                 \n",
            " dense_3 (Dense)             (None, 512)               66048     \n",
            "                                                                 \n",
            " dropout_1 (Dropout)         (None, 512)               0         \n",
            "                                                                 \n",
            " dense_4 (Dense)             (None, 512)               262656    \n",
            "                                                                 \n",
            " dense_5 (Dense)             (None, 3)                 1539      \n",
            "                                                                 \n",
            "=================================================================\n",
            "Total params: 5,638,555\n",
            "Trainable params: 492,355\n",
            "Non-trainable params: 5,146,200\n",
            "_________________________________________________________________\n",
            "None\n"
          ]
        }
      ]
    },
    {
      "cell_type": "code",
      "source": [
        "X_train_padded[0]"
      ],
      "metadata": {
        "colab": {
          "base_uri": "https://localhost:8080/"
        },
        "id": "2_vB4vCH4GYH",
        "outputId": "b79011d5-0cec-499c-cd4b-b9bb753fc5c3"
      },
      "execution_count": 25,
      "outputs": [
        {
          "output_type": "execute_result",
          "data": {
            "text/plain": [
              "array([   0,    0,    0,    0,    0,    0,    0,    0,    0,    0,    0,\n",
              "          0,    0,    0,    0,    0,    0,    0,    0,    0,    0,  218,\n",
              "         33,    4,    1,   47,    7,   73,    6, 3093], dtype=int32)"
            ]
          },
          "metadata": {},
          "execution_count": 25
        }
      ]
    },
    {
      "cell_type": "code",
      "source": [
        "# Train on all data after applying SMOTE to account for label imbalance\n",
        "\n",
        "from imblearn.over_sampling import SMOTE\n",
        "\n",
        "# Concatenate train and test, to develop the final model\n",
        "X_all = np.concatenate((X_train_padded, X_test_padded))\n",
        "y_all = np.concatenate((y_train, y_test))\n",
        "\n",
        "sm = SMOTE()\n",
        "\n",
        "X_balanced, y_balanced = sm.fit_resample(X_all, y_all)\n",
        "\n",
        "# Train the keras model\n",
        "history = model_1.fit(X_balanced, y_balanced, batch_size=16, epochs=10,\n",
        "                    validation_split = 0.1)"
      ],
      "metadata": {
        "id": "l5CLLieh6F6K",
        "colab": {
          "base_uri": "https://localhost:8080/"
        },
        "outputId": "bb0de196-c124-4dd5-d835-d6d96885e68c"
      },
      "execution_count": 26,
      "outputs": [
        {
          "output_type": "stream",
          "name": "stdout",
          "text": [
            "Epoch 1/10\n",
            "3237/3237 [==============================] - 262s 78ms/step - loss: 0.7732 - fbeta_score: 0.6338 - val_loss: 1.0136 - val_fbeta_score: 0.3546\n",
            "Epoch 2/10\n",
            "3237/3237 [==============================] - 248s 77ms/step - loss: 0.6334 - fbeta_score: 0.7111 - val_loss: 1.0749 - val_fbeta_score: 0.4705\n",
            "Epoch 3/10\n",
            "3237/3237 [==============================] - 246s 76ms/step - loss: 0.5839 - fbeta_score: 0.7341 - val_loss: 1.3635 - val_fbeta_score: 0.2439\n",
            "Epoch 4/10\n",
            "3237/3237 [==============================] - 245s 76ms/step - loss: 0.5540 - fbeta_score: 0.7488 - val_loss: 1.1165 - val_fbeta_score: 0.3456\n",
            "Epoch 5/10\n",
            "3237/3237 [==============================] - 244s 75ms/step - loss: 0.5241 - fbeta_score: 0.7616 - val_loss: 1.0484 - val_fbeta_score: 0.4828\n",
            "Epoch 6/10\n",
            "3237/3237 [==============================] - 245s 76ms/step - loss: 0.5068 - fbeta_score: 0.7704 - val_loss: 1.2258 - val_fbeta_score: 0.3375\n",
            "Epoch 7/10\n",
            "3237/3237 [==============================] - 245s 76ms/step - loss: 0.4897 - fbeta_score: 0.7798 - val_loss: 1.1028 - val_fbeta_score: 0.3968\n",
            "Epoch 8/10\n",
            "3237/3237 [==============================] - 248s 76ms/step - loss: 0.4734 - fbeta_score: 0.7866 - val_loss: 1.1011 - val_fbeta_score: 0.4812\n",
            "Epoch 9/10\n",
            "3237/3237 [==============================] - 256s 79ms/step - loss: 0.4578 - fbeta_score: 0.7951 - val_loss: 1.2783 - val_fbeta_score: 0.3525\n",
            "Epoch 10/10\n",
            "3237/3237 [==============================] - 270s 83ms/step - loss: 0.4445 - fbeta_score: 0.8022 - val_loss: 1.4479 - val_fbeta_score: 0.3468\n"
          ]
        }
      ]
    },
    {
      "cell_type": "markdown",
      "source": [
        "### Saving the Model Artifacts"
      ],
      "metadata": {
        "id": "vPC5Bjb2CmW6"
      }
    },
    {
      "cell_type": "code",
      "source": [
        "# Splitting the model into two parts\n",
        "\n",
        "# 1. The model structure\n",
        "model_json = model_1.to_json()\n",
        "with open(\"hate_model.json\", \"w\") as json_file:\n",
        "  json_file.write(model_json)\n",
        "\n",
        "# 2. The model weights\n",
        "model_1.save_weights(\"hate_weights.h5\")"
      ],
      "metadata": {
        "id": "3BFQf5GG9xyQ"
      },
      "execution_count": 27,
      "outputs": []
    },
    {
      "cell_type": "code",
      "source": [
        "# Pickle the tokenizer\n",
        "import pickle\n",
        "\n",
        "# saving\n",
        "with open('tokenizer.pickle', 'wb') as handle:\n",
        "    pickle.dump(tokenizer, handle, protocol=pickle.HIGHEST_PROTOCOL)"
      ],
      "metadata": {
        "id": "qRHqBWfqPEqW"
      },
      "execution_count": 28,
      "outputs": []
    },
    {
      "cell_type": "code",
      "source": [
        ""
      ],
      "metadata": {
        "id": "-oMIw7UfiADB"
      },
      "execution_count": 28,
      "outputs": []
    }
  ]
}